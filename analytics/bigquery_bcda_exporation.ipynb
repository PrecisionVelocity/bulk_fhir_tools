{
  "nbformat": 4,
  "nbformat_minor": 0,
  "metadata": {
    "colab": {
      "name": "BCDA Synthetic Data Exploration",
      "provenance": [],
      "collapsed_sections": []
    },
    "kernelspec": {
      "name": "python3",
      "display_name": "Python 3"
    },
    "language_info": {
      "name": "python"
    }
  },
  "cells": [
    {
      "cell_type": "markdown",
      "source": [
        "# BCDA Synthetic Data Example Exploration\n",
        "\n",
        "[![Open In Colab](https://colab.research.google.com/assets/colab-badge.svg)](https://colab.research.google.com/github/google/medical_claims_tools/blob/main/analytics/bigquery_bcda_exporation.ipynb)",
        "\n",
        "\n",
        "This notebook contains basic examples of exploring Medicare BCDA FHIR data\n",
        "in BigQuery. The results saved below are from the synthetic BCDA example data,\n",
        "but this notebook can be run against any BCDA data imported into FHIR Store and\n",
        "BigQuery using the `bcda_fetch` program.\n",
        "\n"
      ],
      "metadata": {
        "id": "WbzoLoTRRwZ5"
      }
    },
    {
      "cell_type": "markdown",
      "source": [
        "## Setup\n"
      ],
      "metadata": {
        "id": "iJYYbOqqMoFI"
      }
    },
    {
      "cell_type": "code",
      "execution_count": null,
      "metadata": {
        "colab": {
          "base_uri": "https://localhost:8080/"
        },
        "id": "6w3wUQYgHNGt",
        "outputId": "c3322c43-ceb7-4bee-b77c-c681db6bc49c"
      },
      "outputs": [
        {
          "output_type": "stream",
          "name": "stdout",
          "text": [
            "Authenticated\n"
          ]
        },
        {
          "output_type": "stream",
          "name": "stderr",
          "text": [
            "WARNING:google.auth._default:No project ID could be determined. Consider running `gcloud config set project` or setting the GOOGLE_CLOUD_PROJECT environment variable\n"
          ]
        }
      ],
      "source": [
        "from google.colab import auth\n",
        "auth.authenticate_user()\n",
        "print('Authenticated')\n",
        "\n",
        "from google.cloud import bigquery\n",
        "bqclient = bigquery.Client(project=\"betazed\")\n"
      ]
    },
    {
      "cell_type": "code",
      "source": [
        "#@title Parameters\n",
        "bigquery_table_prefix = \"my_project.my_dataset\" #@param {type:\"string\"}\n"
      ],
      "metadata": {
        "id": "b-Ul7P9nZkqv"
      },
      "execution_count": null,
      "outputs": []
    },
    {
      "cell_type": "markdown",
      "source": [
        "## Some basic analytics"
      ],
      "metadata": {
        "id": "mq7SKGSVMq-l"
      }
    },
    {
      "cell_type": "markdown",
      "source": [
        "### Claims broken down by type"
      ],
      "metadata": {
        "id": "Jm3gHlgyRxVL"
      }
    },
    {
      "cell_type": "code",
      "source": [
        "query_str = \"\"\"\n",
        "SELECT\n",
        "  (\n",
        "    SELECT m.code\n",
        "    FROM UNNEST(type.coding) m\n",
        "    WHERE m.system = 'https://bluebutton.cms.gov/resources/codesystem/eob-type'\n",
        "  ) AS eob_code,\n",
        "  COUNT(*) AS cnt\n",
        "FROM `{bigquery_table_prefix}.ExplanationOfBenefit`\n",
        "GROUP BY eob_code\n",
        "LIMIT 10;\n",
        "\"\"\".format(bigquery_table_prefix=bigquery_table_prefix)\n",
        "dataframe = bqclient.query(query_str).result().to_dataframe()\n",
        "print(dataframe)\n",
        "dataframe.plot.bar(rot=0, x=\"eob_code\", title=\"Claims by EOB Type\", ylabel=\"Count\", xlabel=\"EOB Type Code\",figsize=(8,5))"
      ],
      "metadata": {
        "colab": {
          "base_uri": "https://localhost:8080/",
          "height": 506
        },
        "id": "sIOTQt5dH4S8",
        "outputId": "98dd9fc3-76a3-4d7f-999c-fc8542467299"
      },
      "execution_count": null,
      "outputs": [
        {
          "output_type": "stream",
          "name": "stdout",
          "text": [
            "     eob_code   cnt\n",
            "0         PDE  2532\n",
            "1  OUTPATIENT  3658\n",
            "2   INPATIENT   372\n",
            "3         SNF    35\n",
            "4     CARRIER  2947\n",
            "5         HHA   231\n",
            "6     HOSPICE    13\n"
          ]
        },
        {
          "output_type": "execute_result",
          "data": {
            "text/plain": [
              "<matplotlib.axes._subplots.AxesSubplot at 0x7f61dbeb9210>"
            ]
          },
          "metadata": {},
          "execution_count": 4
        },
        {
          "output_type": "display_data",
          "data": {
            "image/png": "[encoded data removed]",
            "text/plain": [
              "<Figure size 576x360 with 1 Axes>"
            ]
          },
          "metadata": {
            "needs_background": "light"
          }
        }
      ]
    },
    {
      "cell_type": "markdown",
      "source": [
        "### Let's look at PDE (Pharmacy) Claims"
      ],
      "metadata": {
        "id": "BZ9U-brVR117"
      }
    },
    {
      "cell_type": "markdown",
      "source": [
        "First, note that in our example data there's only 1 item per EOB (again, needs to be verified if this is true in general). We will use this to simplify our\n",
        "queries."
      ],
      "metadata": {
        "id": "T2VuxvBjayGY"
      }
    },
    {
      "cell_type": "code",
      "source": [
        "query_str =\"\"\"\n",
        "SELECT ARRAY_LENGTH(item) AS itm_len, COUNT(*) AS cnt\n",
        "FROM `{bigquery_table_prefix}.ExplanationOfBenefit`\n",
        "GROUP BY itm_len\n",
        "\"\"\".format(bigquery_table_prefix=bigquery_table_prefix)\n",
        "print(bqclient.query(query_str).result().to_dataframe())"
      ],
      "metadata": {
        "colab": {
          "base_uri": "https://localhost:8080/"
        },
        "id": "ldSuM3rUa7Gd",
        "outputId": "e5d1f2f0-28ee-4392-faec-8e3d9b764881"
      },
      "execution_count": null,
      "outputs": [
        {
          "output_type": "stream",
          "name": "stdout",
          "text": [
            "   itm_len   cnt\n",
            "0        1  9788\n"
          ]
        }
      ]
    },
    {
      "cell_type": "code",
      "source": [
        "# Note we assume all EOB have an item length of 1, and we only look at the \n",
        "# first coding inside the codeable concept with the NDC coding system. \n",
        "query_str = \"\"\"\n",
        "WITH\n",
        "  PDEs AS (\n",
        "    SELECT *\n",
        "    FROM `{bigquery_table_prefix}.ExplanationOfBenefit`\n",
        "    WHERE\n",
        "      (\n",
        "        SELECT m.code\n",
        "        FROM UNNEST(type.coding) m\n",
        "        WHERE\n",
        "          m.system = 'https://bluebutton.cms.gov/resources/codesystem/eob-type'\n",
        "      )\n",
        "      = 'PDE'\n",
        "  )\n",
        "SELECT\n",
        "  ARRAY(\n",
        "    SELECT m.code FROM UNNEST(item[OFFSET(0)].productOrService.coding) AS m\n",
        "  )[OFFSET(0)] AS ndc,\n",
        "  COUNT(*) AS cnt\n",
        "FROM PDEs\n",
        "WHERE\n",
        "  (SELECT m.system FROM UNNEST(item[OFFSET(0)].productOrService.coding) AS m)\n",
        "  = 'http://hl7.org/fhir/sid/ndc'\n",
        "GROUP BY ndc\n",
        "ORDER BY cnt DESC\n",
        "\"\"\".format(bigquery_table_prefix=bigquery_table_prefix)\n",
        "dataframe = bqclient.query(query_str).result().to_dataframe()\n",
        "dataframe.head().plot.bar(rot=0, x=\"ndc\", xlabel=\"NDC Code\", ylabel=\"Count\", title=\"Most frequent PDE drugs by NDC\", width=0.5, figsize=(10,5))"
      ],
      "metadata": {
        "colab": {
          "base_uri": "https://localhost:8080/",
          "height": 367
        },
        "id": "FsauZ2JLBihO",
        "outputId": "abf87fd3-cbf7-44b9-c8af-58fbea0f38aa"
      },
      "execution_count": null,
      "outputs": [
        {
          "output_type": "execute_result",
          "data": {
            "text/plain": [
              "<matplotlib.axes._subplots.AxesSubplot at 0x7f61db960790>"
            ]
          },
          "metadata": {},
          "execution_count": 5
        },
        {
          "output_type": "display_data",
          "data": {
            "image/png": "[encoded data removed]",
            "text/plain": [
              "<Figure size 720x360 with 1 Axes>"
            ]
          },
          "metadata": {
            "needs_background": "light"
          }
        }
      ]
    },
    {
      "cell_type": "code",
      "source": [
        "query_str = \"\"\"\n",
        "WITH\n",
        "  PDEs AS (\n",
        "    SELECT *\n",
        "    FROM `{bigquery_table_prefix}.ExplanationOfBenefit`\n",
        "    WHERE\n",
        "      (\n",
        "        SELECT m.code\n",
        "        FROM UNNEST(type.coding) m\n",
        "        WHERE\n",
        "          m.system = 'https://bluebutton.cms.gov/resources/codesystem/eob-type'\n",
        "      )\n",
        "      = 'PDE'\n",
        "  )\n",
        "SELECT\n",
        "  ARRAY(\n",
        "    SELECT m.display FROM UNNEST(item[OFFSET(0)].productOrService.coding) AS m\n",
        "  )[OFFSET(0)] AS display,\n",
        "  COUNT(*) AS cnt\n",
        "FROM PDEs\n",
        "WHERE\n",
        "  (SELECT m.system FROM UNNEST(item[OFFSET(0)].productOrService.coding) AS m)\n",
        "  = 'http://hl7.org/fhir/sid/ndc'\n",
        "GROUP BY display\n",
        "ORDER BY cnt DESC\n",
        "\"\"\".format(bigquery_table_prefix=bigquery_table_prefix)\n",
        "dataframe = bqclient.query(query_str).result().to_dataframe()\n",
        "top_df = dataframe.head()\n",
        "# Most frequent display value is none, so let's clip that\n",
        "top_df_without_none = top_df[1:]\n",
        "top_df_without_none.plot.bar(rot=0, x=\"display\", xlabel=\"Display\", ylabel=\"Count\", title=\"Most frequent PDE drugs by display value\", width=0.5, figsize=(18,5))"
      ],
      "metadata": {
        "colab": {
          "base_uri": "https://localhost:8080/",
          "height": 367
        },
        "id": "rUJnUVdCSTEi",
        "outputId": "1576d13b-b712-46fc-ad0f-0bfe087a2930"
      },
      "execution_count": null,
      "outputs": [
        {
          "output_type": "execute_result",
          "data": {
            "text/plain": [
              "<matplotlib.axes._subplots.AxesSubplot at 0x7f61db7f2810>"
            ]
          },
          "metadata": {},
          "execution_count": 6
        },
        {
          "output_type": "display_data",
          "data": {
            "image/png": "[encoded data removed]",
            "text/plain": [
              "<Figure size 1296x360 with 1 Axes>"
            ]
          },
          "metadata": {
            "needs_background": "light"
          }
        }
      ]
    },
    {
      "cell_type": "markdown",
      "source": [
        "Kind of interesting--seems like NDCs and display values in the FHIR probably don't line up exactly. Could be an artifact of syntehtic data, or could be similar in real data. If appropirate, we can always use a sideloaded NDC dictionary. "
      ],
      "metadata": {
        "id": "O-6PCF_6Qnc9"
      }
    },
    {
      "cell_type": "markdown",
      "source": [
        "### Outpatient Claims\n"
      ],
      "metadata": {
        "id": "8njre3YhSCGM"
      }
    },
    {
      "cell_type": "markdown",
      "source": [
        "Let's take a look at the most common primary outpatient procedures. By this, I mean we only look at the 0th procedure entry per ExplanationOfBenefit. In the synthetic data, we only have one per EOB anyway--if used on non-synthetic data, this must be considered and taken into account. We also only look at procedures\n",
        "coded with ICD10 to simplify."
      ],
      "metadata": {
        "id": "Yp83VI0SVUU1"
      }
    },
    {
      "cell_type": "code",
      "source": [
        "query_str = \"\"\"\n",
        "WITH\n",
        "  outpatient_claims AS (\n",
        "    SELECT *\n",
        "    FROM `{bigquery_table_prefix}.ExplanationOfBenefit`\n",
        "    WHERE\n",
        "      (\n",
        "        SELECT m.code\n",
        "        FROM UNNEST(type.coding) m\n",
        "        WHERE\n",
        "          m.system = 'https://bluebutton.cms.gov/resources/codesystem/eob-type'\n",
        "      )\n",
        "      = 'OUTPATIENT'\n",
        "  )\n",
        "SELECT\n",
        "  ARRAY(\n",
        "    SELECT m.code\n",
        "    FROM UNNEST(procedure[OFFSET(0)].procedure.codeableConcept.coding) AS m\n",
        "  )[OFFSET(0)] AS icd10,\n",
        "  COUNT(*) AS cnt\n",
        "FROM outpatient_claims\n",
        "WHERE\n",
        "  ARRAY_LENGTH(procedure) > 0\n",
        "  AND (\n",
        "    SELECT m.system\n",
        "    FROM UNNEST(procedure[OFFSET(0)].procedure.codeableConcept.coding) AS m\n",
        "  ) = 'http://hl7.org/fhir/sid/icd-10'\n",
        "GROUP BY icd10\n",
        "ORDER BY cnt DESC\n",
        "\"\"\".format(bigquery_table_prefix=bigquery_table_prefix)\n",
        "dataframe = bqclient.query(query_str).result().to_dataframe()\n",
        "dataframe.head().plot.bar(rot=0, x=\"icd10\", xlabel=\"ICD10 Code\", ylabel=\"Count\", title=\"Most Frequent Primary Outpatient Procedures\", width=0.5, figsize=(10,5))"
      ],
      "metadata": {
        "colab": {
          "base_uri": "https://localhost:8080/",
          "height": 367
        },
        "id": "BfbflOW-SEhu",
        "outputId": "a38ae83f-1adf-4281-ae76-3157b670f76d"
      },
      "execution_count": null,
      "outputs": [
        {
          "output_type": "execute_result",
          "data": {
            "text/plain": [
              "<matplotlib.axes._subplots.AxesSubplot at 0x7f61db7ffa50>"
            ]
          },
          "metadata": {},
          "execution_count": 7
        },
        {
          "output_type": "display_data",
          "data": {
            "image/png": "[encoded data removed]",
            "text/plain": [
              "<Figure size 720x360 with 1 Axes>"
            ]
          },
          "metadata": {
            "needs_background": "light"
          }
        }
      ]
    },
    {
      "cell_type": "code",
      "source": [
        "query_str = \"\"\"\n",
        "WITH\n",
        "  outpatient_claims AS (\n",
        "    SELECT *\n",
        "    FROM `{bigquery_table_prefix}.ExplanationOfBenefit`\n",
        "    WHERE\n",
        "      (\n",
        "        SELECT m.code\n",
        "        FROM UNNEST(type.coding) m\n",
        "        WHERE\n",
        "          m.system = 'https://bluebutton.cms.gov/resources/codesystem/eob-type'\n",
        "      )\n",
        "      = 'OUTPATIENT'\n",
        "  )\n",
        "SELECT\n",
        "  ARRAY(\n",
        "    SELECT m.display\n",
        "    FROM UNNEST(procedure[OFFSET(0)].procedure.codeableConcept.coding) AS m\n",
        "  )[OFFSET(0)] AS procedure_display,\n",
        "  COUNT(*)\n",
        "FROM outpatient_claims\n",
        "WHERE\n",
        "  ARRAY_LENGTH(procedure) > 0\n",
        "  AND (\n",
        "    SELECT m.system\n",
        "    FROM UNNEST(procedure[OFFSET(0)].procedure.codeableConcept.coding) AS m\n",
        "  ) = 'http://hl7.org/fhir/sid/icd-10'\n",
        "GROUP BY procedure_display\n",
        "ORDER BY 2 DESC\n",
        "\"\"\".format(bigquery_table_prefix=bigquery_table_prefix)\n",
        "dataframe = bqclient.query(query_str).result().to_dataframe()\n",
        "dataframe.head().plot.bar(rot=0, x=\"procedure_display\", xlabel=\"Procedure Display\", ylabel=\"Count\", title=\"Most Frequent Primary Outpatient Procedures (group by display)\", width=0.5, figsize=(30,5))"
      ],
      "metadata": {
        "colab": {
          "base_uri": "https://localhost:8080/",
          "height": 355
        },
        "id": "KxGxDToOXnvl",
        "outputId": "e194c9d3-8eb9-41c9-cc10-2cc2f789c82c"
      },
      "execution_count": null,
      "outputs": [
        {
          "output_type": "execute_result",
          "data": {
            "text/plain": [
              "<matplotlib.axes._subplots.AxesSubplot at 0x7f61db928490>"
            ]
          },
          "metadata": {},
          "execution_count": 8
        },
        {
          "output_type": "display_data",
          "data": {
            "image/png": "[encoded data removed]",
            "text/plain": [
              "<Figure size 2160x360 with 1 Axes>"
            ]
          },
          "metadata": {
            "needs_background": "light"
          }
        }
      ]
    }
  ]
}